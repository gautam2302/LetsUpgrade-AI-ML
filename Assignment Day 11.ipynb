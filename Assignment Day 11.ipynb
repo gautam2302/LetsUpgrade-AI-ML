{
 "cells": [
  {
   "cell_type": "code",
   "execution_count": 2,
   "metadata": {},
   "outputs": [],
   "source": [
    "import pandas as pd \n",
    "from scipy.stats import pointbiserialr\n",
    "from scipy.stats import pearsonr\n",
    "import matplotlib.pyplot as plt"
   ]
  },
  {
   "cell_type": "code",
   "execution_count": 3,
   "metadata": {},
   "outputs": [],
   "source": [
    "dataset = pd.read_csv('general_data.csv')"
   ]
  },
  {
   "cell_type": "code",
   "execution_count": 4,
   "metadata": {},
   "outputs": [
    {
     "data": {
      "text/plain": [
       "Index(['Age', 'Attrition', 'BusinessTravel', 'Department', 'DistanceFromHome',\n",
       "       'Education', 'EducationField', 'EmployeeCount', 'EmployeeID', 'Gender',\n",
       "       'JobLevel', 'JobRole', 'MaritalStatus', 'MonthlyIncome',\n",
       "       'NumCompaniesWorked', 'Over18', 'PercentSalaryHike', 'StandardHours',\n",
       "       'StockOptionLevel', 'TotalWorkingYears', 'TrainingTimesLastYear',\n",
       "       'YearsAtCompany', 'YearsSinceLastPromotion', 'YearsWithCurrManager'],\n",
       "      dtype='object')"
      ]
     },
     "execution_count": 4,
     "metadata": {},
     "output_type": "execute_result"
    }
   ],
   "source": [
    "dataset.columns"
   ]
  },
  {
   "cell_type": "code",
   "execution_count": 9,
   "metadata": {},
   "outputs": [
    {
     "name": "stdout",
     "output_type": "stream",
     "text": [
      "-0.15920500686577965 1.996801615886744e-26\n"
     ]
    }
   ],
   "source": [
    "stats, p = pearsonr(dataset.Attrition, dataset.Age)\n",
    "print(stats, p)"
   ]
  },
  {
   "cell_type": "raw",
   "metadata": {},
   "source": [
    "## Hypothesis {1}\n",
    "\n",
    "null hypothesis (H0) = Age and attrition have no correlation .\n",
    "\n",
    "alternate hypothesis (H1) = Age and attrition have a correlation between them .\n",
    "\n",
    "r = -0.15920500686577965\n",
    "\n",
    "p = 1.996801615886744e-26\n",
    "\n",
    "r is negative so there is a negative relation between Age and attrition\n",
    "\n",
    "and as p <0.05 so null hypothesis (H0) is rejected and we find that there is a negative correlation between attrition and age"
   ]
  },
  {
   "cell_type": "code",
   "execution_count": 10,
   "metadata": {},
   "outputs": [
    {
     "name": "stdout",
     "output_type": "stream",
     "text": [
      "-0.00973014101017966 0.5182860428050771\n"
     ]
    }
   ],
   "source": [
    "stats, p = pearsonr(dataset.Attrition, dataset.DistanceFromHome)\n",
    "print(stats, p)"
   ]
  },
  {
   "cell_type": "raw",
   "metadata": {},
   "source": [
    "## Hypothesis {2}\n",
    "\n",
    "null hypothesis (H0) = Attrition and distance from home have no correlation .\n",
    "\n",
    "alternate hypothesis (H1) = Attrition and distance from home have a correlation between them .\n",
    "\n",
    "r = -0.00973014101017967\n",
    "\n",
    "p = 0.5182860428050771\n",
    "\n",
    "Here p is greater than 0.05 hence we accept the null hypothesis (H0) that there is no realtion between attrtion and distance from home"
   ]
  },
  {
   "cell_type": "code",
   "execution_count": 11,
   "metadata": {},
   "outputs": [
    {
     "name": "stdout",
     "output_type": "stream",
     "text": [
      "-0.031176281698115007 0.03842748490600132\n"
     ]
    }
   ],
   "source": [
    "stats, p = pearsonr(dataset.Attrition, dataset.MonthlyIncome)\n",
    "print(stats, p)"
   ]
  },
  {
   "cell_type": "raw",
   "metadata": {},
   "source": [
    "## Hypothesis {3}\n",
    "\n",
    "null hypothesis (H0) = Attrition and monthly income have no correlation .\n",
    "\n",
    "alternate hypothesis (H1) = Attrition and monthly income have a correlation between them .\n",
    "\n",
    "r = -0.03117628169811501\n",
    "\n",
    "p = 0.03842748490600132\n",
    "\n",
    "As p is lesser than .05 we reject null hypothesis (H0) and conclude that there is a significant relation between ATRRITION AND MONTHLY INCOME.\n",
    "\n",
    "r is -.0311 so we see there is negative relation between the two"
   ]
  },
  {
   "cell_type": "code",
   "execution_count": 12,
   "metadata": {},
   "outputs": [
    {
     "name": "stdout",
     "output_type": "stream",
     "text": [
      "0.03253259489105351 0.030743386433355353\n"
     ]
    }
   ],
   "source": [
    "stats, p = pearsonr(dataset.Attrition, dataset.PercentSalaryHike)\n",
    "print(stats, p)"
   ]
  },
  {
   "cell_type": "raw",
   "metadata": {},
   "source": [
    "## Hypothesis {4}\n",
    "\n",
    "null hypothesis (H0) = Attrition and salary hike percentage have no correlation .\n",
    "\n",
    "alternate hypothesis (H1) = Attrition and salary hike percentage have a correlation between them .\n",
    "\n",
    "r = 0.03253259489105349\n",
    "\n",
    "p = 0.030743386433355353\n",
    "\n",
    "As p is lesser than .05 we reject null hypothesis (H0) and conclude that there is a significant relation between Attrition and salary hike percent .\n",
    "\n",
    "r is 0.032 so we see there is positive relation between the two"
   ]
  },
  {
   "cell_type": "code",
   "execution_count": 13,
   "metadata": {},
   "outputs": [
    {
     "name": "stdout",
     "output_type": "stream",
     "text": [
      "-0.04943057624425501 0.0010247061915362814\n"
     ]
    }
   ],
   "source": [
    "stats, p = pearsonr(dataset.Attrition, dataset.TrainingTimesLastYear)\n",
    "print(stats, p)"
   ]
  },
  {
   "cell_type": "raw",
   "metadata": {},
   "source": [
    "##  Hypothesis {5}\n",
    "\n",
    "\n",
    "null hypothesis (H0) = Attrition and TrainingTimesLastYear have no correlation .\n",
    "\n",
    "alternate hypothesis (H1) = Attrition and TrainingTimesLastYear have a correlation between them .\n",
    "\n",
    "r = -0.049430576244255\n",
    "\n",
    "p = 0.0010247061915365072\n",
    "\n",
    "As p is lesser than .05 we reject null hypothesis (H0) and conclude that there is a significant relation between Attrition and TrainingTimesLastYear .\n",
    "\n",
    "r is -0.049 so we see there is negative relation between the two"
   ]
  },
  {
   "cell_type": "code",
   "execution_count": 14,
   "metadata": {},
   "outputs": [
    {
     "name": "stdout",
     "output_type": "stream",
     "text": [
      "-0.1343922139899772 3.1638831224877484e-19\n"
     ]
    }
   ],
   "source": [
    "stats, p = pearsonr(dataset.Attrition, dataset.YearsAtCompany)\n",
    "print(stats, p)"
   ]
  },
  {
   "cell_type": "raw",
   "metadata": {},
   "source": [
    "##  Hypothesis {6}\n",
    "\n",
    "\n",
    "null hypothesis (H0) = Attrition and YearsAtCompany have no correlation .\n",
    "\n",
    "alternate hypothesis (H1) = Attrition and YearsAtCompany have a correlation between them .\n",
    "\n",
    "r = -0.1343922139899772\n",
    "\n",
    "p = 3.1638831224877484e-19\n",
    "\n",
    "As p is lesser than .05 we reject null hypothesis (H0) and conclude that there is a significant relation between Attrition and YearsAtCompany .\n",
    "\n",
    "r is -0.134 so we see there is negative relation between the two"
   ]
  },
  {
   "cell_type": "code",
   "execution_count": 15,
   "metadata": {},
   "outputs": [
    {
     "name": "stdout",
     "output_type": "stream",
     "text": [
      "-0.03301877514258434 0.028330336189396753\n"
     ]
    }
   ],
   "source": [
    "stats, p = pearsonr(dataset.Attrition, dataset.YearsSinceLastPromotion)\n",
    "print(stats, p)"
   ]
  },
  {
   "cell_type": "raw",
   "metadata": {},
   "source": [
    "##  Hypothesis {7}\n",
    "\n",
    "\n",
    "null hypothesis (H0) = Attrition and YearsSinceLastPromotion have no correlation .\n",
    "\n",
    "alternate hypothesis (H1) = Attrition and YearsSinceLastPromotion have a correlation between them .\n",
    "\n",
    "r = -0.03301877514258433\n",
    "\n",
    "p = 0.028330336189396753\n",
    "\n",
    "As p is lesser than .05 we reject null hypothesis (H0) and conclude that there is a significant relation between Attrition and YearsSinceLastPromotion .\n",
    "\n",
    "r is -0.033 so we see there is negative relation between the two"
   ]
  },
  {
   "cell_type": "code",
   "execution_count": 16,
   "metadata": {},
   "outputs": [
    {
     "name": "stdout",
     "output_type": "stream",
     "text": [
      "-0.15619931590162842 1.7339322652900218e-25\n"
     ]
    }
   ],
   "source": [
    "stats, p = pearsonr(dataset.Attrition, dataset.YearsWithCurrManager)\n",
    "print(stats, p)"
   ]
  },
  {
   "cell_type": "raw",
   "metadata": {},
   "source": [
    "##  Hypothesis {8}\n",
    "\n",
    "\n",
    "null hypothesis (H0) = Attrition and YearsWithCurrManager have no correlation .\n",
    "\n",
    "alternate hypothesis (H1) = Attrition and YearsWithCurrManager have a correlation between them .\n",
    "\n",
    "-0.15619931590162847\n",
    "\n",
    "1.7339322652896276e-25\n",
    "\n",
    "As p is lesser than .05 we reject null hypothesis (H0) and conclude that there is a significant relation between Attrition and YearsWithCurrManager.\n",
    "\n",
    "r is -0.156 so we see there is negative relation between the two"
   ]
  }
 ],
 "metadata": {
  "kernelspec": {
   "display_name": "Python 3",
   "language": "python",
   "name": "python3"
  }
 },
 "nbformat": 4,
 "nbformat_minor": 4
}
