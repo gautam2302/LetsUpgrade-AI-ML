{
 "cells": [
  {
   "cell_type": "code",
   "execution_count": 1,
   "metadata": {},
   "outputs": [],
   "source": [
    "import numpy as np\n",
    "from datetime import date, timedelta"
   ]
  },
  {
   "cell_type": "raw",
   "metadata": {},
   "source": [
    "1. Create a 3x3x3 array with random values"
   ]
  },
  {
   "cell_type": "code",
   "execution_count": 2,
   "metadata": {},
   "outputs": [
    {
     "data": {
      "text/plain": [
       "array([[[0.24917832, 0.31973897, 0.92624723],\n",
       "        [0.92490117, 0.29498712, 0.09982071],\n",
       "        [0.63963721, 0.07948442, 0.3841657 ]],\n",
       "\n",
       "       [[0.41385816, 0.13905111, 0.13363389],\n",
       "        [0.58494331, 0.88905431, 0.36973142],\n",
       "        [0.47405966, 0.70281735, 0.49344562]],\n",
       "\n",
       "       [[0.98300999, 0.41564724, 0.30671977],\n",
       "        [0.19778452, 0.62659725, 0.46614905],\n",
       "        [0.00171767, 0.48627133, 0.09793591]]])"
      ]
     },
     "execution_count": 2,
     "metadata": {},
     "output_type": "execute_result"
    }
   ],
   "source": [
    "array = np.random.rand(3,3,3)\n",
    "array"
   ]
  },
  {
   "cell_type": "raw",
   "metadata": {},
   "source": [
    "2.  Create a 5x5 matrix with values 1,2,3,4 just below the diagonal"
   ]
  },
  {
   "cell_type": "code",
   "execution_count": 3,
   "metadata": {},
   "outputs": [
    {
     "data": {
      "text/plain": [
       "array([[0, 0, 0, 0, 0],\n",
       "       [1, 0, 0, 0, 0],\n",
       "       [0, 2, 0, 0, 0],\n",
       "       [0, 0, 3, 0, 0],\n",
       "       [0, 0, 0, 4, 0]])"
      ]
     },
     "execution_count": 3,
     "metadata": {},
     "output_type": "execute_result"
    }
   ],
   "source": [
    "array = np.diag(np.arange(4) + 1, k = -1)\n",
    "array"
   ]
  },
  {
   "cell_type": "raw",
   "metadata": {},
   "source": [
    "3.  Create a 8x8 matrix and fill it with a checkerboard pattern"
   ]
  },
  {
   "cell_type": "code",
   "execution_count": 4,
   "metadata": {},
   "outputs": [
    {
     "data": {
      "text/plain": [
       "array([[0, 1, 0, 1, 0, 1, 0, 1],\n",
       "       [1, 0, 1, 0, 1, 0, 1, 0],\n",
       "       [0, 1, 0, 1, 0, 1, 0, 1],\n",
       "       [1, 0, 1, 0, 1, 0, 1, 0],\n",
       "       [0, 1, 0, 1, 0, 1, 0, 1],\n",
       "       [1, 0, 1, 0, 1, 0, 1, 0],\n",
       "       [0, 1, 0, 1, 0, 1, 0, 1],\n",
       "       [1, 0, 1, 0, 1, 0, 1, 0]])"
      ]
     },
     "execution_count": 4,
     "metadata": {},
     "output_type": "execute_result"
    }
   ],
   "source": [
    "array = np.tile(np.array([[0,1],[1,0]]), (4,4))\n",
    "array"
   ]
  },
  {
   "cell_type": "raw",
   "metadata": {},
   "source": [
    "4.  Normalize a 5x5 random matrix"
   ]
  },
  {
   "cell_type": "code",
   "execution_count": 6,
   "metadata": {},
   "outputs": [
    {
     "data": {
      "text/plain": [
       "array([[ 0.34886107, -1.56046355,  1.44200254,  0.9631333 ,  1.05456493],\n",
       "       [-0.53854975, -0.97330509,  0.82907883, -1.16068155, -0.22170258],\n",
       "       [-0.73495285,  0.66767314, -1.43207686,  0.39608835, -1.19058047],\n",
       "       [ 0.43896352,  1.00839529,  0.90670436,  0.91953743, -0.95164939],\n",
       "       [-1.01540771,  1.23003427, -0.67591999,  1.46244822, -1.21219545]])"
      ]
     },
     "execution_count": 6,
     "metadata": {},
     "output_type": "execute_result"
    }
   ],
   "source": [
    "array = np.random.random((5,5))\n",
    "array = (array - np.mean (array)) / (np.std (array))\n",
    "array"
   ]
  },
  {
   "cell_type": "raw",
   "metadata": {},
   "source": [
    "5.  How to find common values between two arrays"
   ]
  },
  {
   "cell_type": "code",
   "execution_count": 8,
   "metadata": {},
   "outputs": [
    {
     "data": {
      "text/plain": [
       "array([ 2,  3,  5,  8, 10, 12, 13])"
      ]
     },
     "execution_count": 8,
     "metadata": {},
     "output_type": "execute_result"
    }
   ],
   "source": [
    "array1 = np.random.randint(0,15,15)\n",
    "array2 = np.random.randint(0,15,15)\n",
    "\n",
    "np.intersect1d(array1, array2)"
   ]
  },
  {
   "cell_type": "raw",
   "metadata": {},
   "source": [
    "6.  How to get the dates of yesterday, today and tomorrow?"
   ]
  },
  {
   "cell_type": "code",
   "execution_count": 9,
   "metadata": {},
   "outputs": [
    {
     "name": "stdout",
     "output_type": "stream",
     "text": [
      "2020-08-08 2020-08-09 2020-08-10\n"
     ]
    }
   ],
   "source": [
    "yesterday = np.datetime64('today') - np.timedelta64(1)\n",
    "today     = np.datetime64('today')\n",
    "tomorrow  = np.datetime64('today') + np.timedelta64(1)\n",
    "print(yesterday, today, tomorrow)"
   ]
  },
  {
   "cell_type": "raw",
   "metadata": {},
   "source": [
    "7.  Consider two random array A and B, check if they are equal"
   ]
  },
  {
   "cell_type": "code",
   "execution_count": 11,
   "metadata": {},
   "outputs": [
    {
     "name": "stdout",
     "output_type": "stream",
     "text": [
      "Array1:\n",
      "[[0.69134687 0.08339277 0.05885499 0.01245029]\n",
      " [0.70563778 0.8690818  0.43508246 0.25539462]\n",
      " [0.36181309 0.91005404 0.04249711 0.21806641]\n",
      " [0.18399767 0.25359538 0.06281791 0.12548104]]\n",
      "\n",
      "\n",
      "Array2:\n",
      "[[0.86314114 0.01570386 0.17110015 0.31157789]\n",
      " [0.3496921  0.78494372 0.88802212 0.64102114]\n",
      " [0.34832847 0.297453   0.82502825 0.38612747]\n",
      " [0.30574973 0.62757422 0.08781351 0.24148974]]\n",
      "\n",
      "\n",
      "Equality: False\n"
     ]
    }
   ],
   "source": [
    "array1 = np.random.rand(4,4)\n",
    "array2 = np.random.rand(4,4)\n",
    "\n",
    "equal = np.array_equal(array1,array2)\n",
    "print(f'Array1:\\n{array1}\\n\\n')\n",
    "print(f'Array2:\\n{array2}\\n\\n')\n",
    "print(f'Equality: {equal}')"
   ]
  },
  {
   "cell_type": "raw",
   "metadata": {},
   "source": [
    "8.  Create random vector of size 10 and replace the maximum value by 0"
   ]
  },
  {
   "cell_type": "code",
   "execution_count": 12,
   "metadata": {},
   "outputs": [
    {
     "data": {
      "text/plain": [
       "array([0.26780067, 0.5046749 , 0.1740557 , 0.        , 0.4918148 ,\n",
       "       0.77478037, 0.27869765, 0.25791605, 0.44037697, 0.61504375])"
      ]
     },
     "execution_count": 12,
     "metadata": {},
     "output_type": "execute_result"
    }
   ],
   "source": [
    "array = np.random.rand(10)\n",
    "array[array.argmax()] = 0\n",
    "array"
   ]
  },
  {
   "cell_type": "raw",
   "metadata": {},
   "source": [
    "9. How to print all the values of an array?"
   ]
  },
  {
   "cell_type": "code",
   "execution_count": 13,
   "metadata": {},
   "outputs": [
    {
     "name": "stdout",
     "output_type": "stream",
     "text": [
      "[[1. 1. 1. 1. 1.]\n",
      " [1. 1. 1. 1. 1.]\n",
      " [1. 1. 1. 1. 1.]\n",
      " [1. 1. 1. 1. 1.]\n",
      " [1. 1. 1. 1. 1.]]\n"
     ]
    }
   ],
   "source": [
    "array = np.ones((5, 5))\n",
    "print(array)"
   ]
  },
  {
   "cell_type": "raw",
   "metadata": {},
   "source": [
    "10.  Subtract the mean of each row of a matrix"
   ]
  },
  {
   "cell_type": "code",
   "execution_count": 15,
   "metadata": {},
   "outputs": [
    {
     "data": {
      "text/plain": [
       "array([[ 0.50506692, -0.09488309, -0.21789187,  0.06153488, -0.25382684],\n",
       "       [-0.0456072 ,  0.54674537, -0.05145891, -0.14284778, -0.30683148],\n",
       "       [ 0.29022496, -0.29317696,  0.27909911, -0.55044393,  0.27429682],\n",
       "       [-0.36833291,  0.39364126, -0.04059501,  0.27419885, -0.25891219],\n",
       "       [ 0.38687407, -0.46389874, -0.42874008,  0.38249531,  0.12326944]])"
      ]
     },
     "execution_count": 15,
     "metadata": {},
     "output_type": "execute_result"
    }
   ],
   "source": [
    "array = np.random.rand(5,5)\n",
    "array_mean = array - array.mean(axis=1, keepdims=True)\n",
    "\n",
    "array_mean"
   ]
  },
  {
   "cell_type": "raw",
   "metadata": {},
   "source": [
    "11.  Consider a given vector, how to add 1 to each element indexed by a second vector (be careful with repeated indices)?"
   ]
  },
  {
   "cell_type": "code",
   "execution_count": 17,
   "metadata": {},
   "outputs": [
    {
     "data": {
      "text/plain": [
       "array([3., 3., 4., 2., 3.])"
      ]
     },
     "execution_count": 17,
     "metadata": {},
     "output_type": "execute_result"
    }
   ],
   "source": [
    "array1 = np.ones(5)\n",
    "array2 = np.random.randint(0, len(array1), 10)\n",
    "array1 += np.bincount(array2, minlength = len(array1))\n",
    "array1"
   ]
  },
  {
   "cell_type": "raw",
   "metadata": {},
   "source": [
    "12.  How to get the diagonal of a dot product?"
   ]
  },
  {
   "cell_type": "code",
   "execution_count": 19,
   "metadata": {},
   "outputs": [
    {
     "data": {
      "text/plain": [
       "array([ 69, 128,  88,  49])"
      ]
     },
     "execution_count": 19,
     "metadata": {},
     "output_type": "execute_result"
    }
   ],
   "source": [
    "array1 = np.random.randint(0,10,(4,4))\n",
    "array2 = np.random.randint(0,10,(4,4))\n",
    "\n",
    "np.einsum(\"ij,ji->i\", array1, array2)"
   ]
  },
  {
   "cell_type": "raw",
   "metadata": {},
   "source": [
    "13.  How to find the most frequent value in an array?"
   ]
  },
  {
   "cell_type": "code",
   "execution_count": 20,
   "metadata": {},
   "outputs": [
    {
     "name": "stdout",
     "output_type": "stream",
     "text": [
      "[7 7 2 4 6 3 6 7 2 8 7 9 7 5 3 4 5 2 6 5]\n"
     ]
    },
    {
     "data": {
      "text/plain": [
       "7"
      ]
     },
     "execution_count": 20,
     "metadata": {},
     "output_type": "execute_result"
    }
   ],
   "source": [
    "array = np.random.randint(0,10,20)\n",
    "print(array)\n",
    "max(set(array), key = list(array).count)"
   ]
  },
  {
   "cell_type": "raw",
   "metadata": {},
   "source": [
    "14.  How to get the n largest values of an array"
   ]
  },
  {
   "cell_type": "code",
   "execution_count": 24,
   "metadata": {},
   "outputs": [
    {
     "data": {
      "text/plain": [
       "9"
      ]
     },
     "execution_count": 24,
     "metadata": {},
     "output_type": "execute_result"
    }
   ],
   "source": [
    "array = np.random.randint(0,10,30)\n",
    "np.bincount(array).argmax()"
   ]
  },
  {
   "cell_type": "raw",
   "metadata": {},
   "source": [
    "15.  How to create a record array from a regular array?"
   ]
  },
  {
   "cell_type": "code",
   "execution_count": 26,
   "metadata": {},
   "outputs": [
    {
     "name": "stdout",
     "output_type": "stream",
     "text": [
      "[['Science' '88.5' '90']\n",
      " ['Maths' '87' '99']\n",
      " ['English' '85.5' '91']]\n",
      "\n",
      "RECORD ARRAY\n"
     ]
    },
    {
     "data": {
      "text/plain": [
       "rec.array([(b'Science', 88.5, 90), (b'Maths', 87. , 99),\n",
       "           (b'English', 85.5, 91)],\n",
       "          dtype=[('col1', 'S80'), ('col2', '<f8'), ('col3', '<i8')])"
      ]
     },
     "execution_count": 26,
     "metadata": {},
     "output_type": "execute_result"
    }
   ],
   "source": [
    "array = np.array([(\"Science\", 88.5, 90),\n",
    "                 (\"Maths\", 87, 99),\n",
    "             (\"English\", 85.5, 91)])\n",
    "\n",
    "print(array)\n",
    "print(\"\\nRECORD ARRAY\")\n",
    "record = np.core.records.fromarrays(array.T,\n",
    "                              names='col1, col2, col3',\n",
    "                              formats = 'S80, f8, i8')\n",
    "record"
   ]
  }
 ],
 "metadata": {
  "kernelspec": {
   "display_name": "Python 3",
   "language": "python",
   "name": "python3"
  },
  "language_info": {
   "codemirror_mode": {
    "name": "ipython",
    "version": 3
   },
   "file_extension": ".py",
   "mimetype": "text/x-python",
   "name": "python",
   "nbconvert_exporter": "python",
   "pygments_lexer": "ipython3",
   "version": "3.8.3"
  }
 },
 "nbformat": 4,
 "nbformat_minor": 4
}
