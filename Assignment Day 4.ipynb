{
 "cells": [
  {
   "cell_type": "markdown",
   "metadata": {},
   "source": [
    "# Q1. Research on whether addition, subtraction, multiplication, division, floor division and modulo operations be performed on complex numbers. Based on your study, implement a Python program to demonstrate these operations"
   ]
  },
  {
   "cell_type": "code",
   "execution_count": 6,
   "metadata": {},
   "outputs": [
    {
     "name": "stdout",
     "output_type": "stream",
     "text": [
      "<module 'cmath' (built-in)> (2.5+0j)\n"
     ]
    }
   ],
   "source": [
    "# complex number addition\n",
    "\n",
    "import cmath\n",
    "\n",
    "x = 1.0\n",
    "y = 1.5\n",
    "\n",
    "z = complex(x+y) \n",
    "print(cmath, (z))"
   ]
  },
  {
   "cell_type": "code",
   "execution_count": 7,
   "metadata": {},
   "outputs": [
    {
     "name": "stdout",
     "output_type": "stream",
     "text": [
      "<module 'cmath' (built-in)> (-0.5+0j)\n"
     ]
    }
   ],
   "source": [
    "# complex number substraction\n",
    "\n",
    "import cmath\n",
    "\n",
    "x1 = 1.0\n",
    "y1 = 1.5\n",
    "\n",
    "z1 = complex(x1-y1) \n",
    "print(cmath, (z1))"
   ]
  },
  {
   "cell_type": "code",
   "execution_count": 8,
   "metadata": {},
   "outputs": [
    {
     "name": "stdout",
     "output_type": "stream",
     "text": [
      "<module 'cmath' (built-in)> (2.64+0j)\n"
     ]
    }
   ],
   "source": [
    "# complex number multiplication\n",
    "\n",
    "import cmath\n",
    "\n",
    "x3 = 1.2\n",
    "y3 = 2.2\n",
    "\n",
    "z3 = complex(x3*y3) \n",
    "print(cmath, (z3))"
   ]
  },
  {
   "cell_type": "code",
   "execution_count": 9,
   "metadata": {},
   "outputs": [
    {
     "name": "stdout",
     "output_type": "stream",
     "text": [
      "<module 'cmath' (built-in)> (0.5454545454545454+0j)\n"
     ]
    }
   ],
   "source": [
    "# complex number division\n",
    "\n",
    "import cmath\n",
    "\n",
    "x4 = 1.2\n",
    "y4 = 2.2\n",
    "\n",
    "z4 = complex(x4/y4) \n",
    "print(cmath, (z4))"
   ]
  },
  {
   "cell_type": "code",
   "execution_count": null,
   "metadata": {},
   "outputs": [],
   "source": []
  },
  {
   "cell_type": "markdown",
   "metadata": {},
   "source": [
    "# Floor and modulus operators (// and % respectively) are not allowed to be used on complex number in Python 3.x."
   ]
  },
  {
   "cell_type": "markdown",
   "metadata": {},
   "source": [
    "# Q2.  Research on range() functions and its parameters. Create a markdown cell and write in your ownwords (no copy-paste from google please) what you understand about it. Implement a small program of your choice on the same."
   ]
  },
  {
   "cell_type": "markdown",
   "metadata": {},
   "source": [
    "# Range function is used to define a sequence of numbers which starts at (0) by default and ends at (-1) of the number mentioned in range. \n",
    "For eg. - range(4) will generate 0 1 2 3 4 5\n",
    "\n",
    "# User can also define range sequence start number and range sequence end number\n",
    "For eg. -  range(5, 15) will generate 5 6 7 8 9 10 11 12 13 14 15\n",
    "\n",
    "# User can also define steps to increment in range sequence while giving range sequence start number and range sequence end number\n",
    "For eg. - range(1, 10, 3) will generate 1 4 7 "
   ]
  },
  {
   "cell_type": "code",
   "execution_count": 10,
   "metadata": {},
   "outputs": [
    {
     "name": "stdout",
     "output_type": "stream",
     "text": [
      "0\n",
      "1\n",
      "2\n",
      "3\n",
      "4\n"
     ]
    }
   ],
   "source": [
    "x=range(5)\n",
    "for y in x:\n",
    "    print(y)"
   ]
  },
  {
   "cell_type": "markdown",
   "metadata": {},
   "source": [
    "# Q3 Consider two numbers. Perform their subtraction and if the result of subtraction is greater than 25, print their multiplication result else print their division result."
   ]
  },
  {
   "cell_type": "code",
   "execution_count": 11,
   "metadata": {
    "scrolled": true
   },
   "outputs": [
    {
     "name": "stdout",
     "output_type": "stream",
     "text": [
      "15\n",
      "2.5\n"
     ]
    }
   ],
   "source": [
    "x=25\n",
    "y=10\n",
    "\n",
    "print (x-y)\n",
    "\n",
    "if (x-y)>25:\n",
    "    print (x*y)\n",
    "else:\n",
    "    print (x/y)"
   ]
  },
  {
   "cell_type": "code",
   "execution_count": 12,
   "metadata": {},
   "outputs": [
    {
     "name": "stdout",
     "output_type": "stream",
     "text": [
      "27\n",
      "370\n"
     ]
    }
   ],
   "source": [
    "x=37\n",
    "y=10\n",
    "\n",
    "print (x-y)\n",
    "\n",
    "if (x-y)>25:\n",
    "    print (x*y)\n",
    "else:\n",
    "    print (x/y)"
   ]
  },
  {
   "cell_type": "markdown",
   "metadata": {},
   "source": [
    "# Q4 Consider a list of 10 elements of integer values. If the number in the list is divisible by 2, print the result as \"square of that number minus 2\"."
   ]
  },
  {
   "cell_type": "code",
   "execution_count": 13,
   "metadata": {},
   "outputs": [],
   "source": [
    "n = [2,5,7,8,10,11,12,14,16,18]\n",
    "for x in n:\n",
    "    if (x/2):\n",
    "        continue\n",
    "    else:\n",
    "        print(i*i)"
   ]
  },
  {
   "cell_type": "markdown",
   "metadata": {},
   "source": [
    "# Q5 Consider a list of 10 elements. Print all the elements in the list which are greater than 7 when that number is divided 2."
   ]
  },
  {
   "cell_type": "code",
   "execution_count": 14,
   "metadata": {},
   "outputs": [
    {
     "name": "stdout",
     "output_type": "stream",
     "text": [
      "Elements in the list which are greater than 7 when that number is divided by 2: \n",
      "56\n",
      "21\n",
      "77\n",
      "51\n",
      "21\n",
      "42\n",
      "28\n"
     ]
    }
   ],
   "source": [
    "list = [56, 21, 6, 77, 51, 21, 42, 5, 14, 28]\n",
    "print(\"Elements in the list which are greater than 7 when that number is divided by 2: \")\n",
    "for i in list:\n",
    "    if i/2 > 7:\n",
    "        print(i)"
   ]
  }
 ],
 "metadata": {
  "kernelspec": {
   "display_name": "Python 3",
   "language": "python",
   "name": "python3"
  },
  "language_info": {
   "codemirror_mode": {
    "name": "ipython",
    "version": 3
   },
   "file_extension": ".py",
   "mimetype": "text/x-python",
   "name": "python",
   "nbconvert_exporter": "python",
   "pygments_lexer": "ipython3",
   "version": "3.8.3"
  }
 },
 "nbformat": 4,
 "nbformat_minor": 4
}
