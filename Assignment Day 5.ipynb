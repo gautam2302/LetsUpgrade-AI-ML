{
 "cells": [
  {
   "cell_type": "markdown",
   "metadata": {},
   "source": [
    "# Q1 Write a Python program to find the first 20 non-even prime natural numbers"
   ]
  },
  {
   "cell_type": "code",
   "execution_count": 1,
   "metadata": {},
   "outputs": [
    {
     "name": "stdout",
     "output_type": "stream",
     "text": [
      "3 5 7 11 13 17 19 23 29 31 37 41 43 47 53 59 61 67 71 73\n"
     ]
    }
   ],
   "source": [
    "num = 2\n",
    "odd_prime = []\n",
    "while len(odd_prime) != 20:\n",
    "    if num % 2 != 0:\n",
    "        for i in range(2, num//2 + 2):\n",
    "            if num % i == 0:\n",
    "                break\n",
    "            elif i == num//2 + 1:\n",
    "                odd_prime.append(num)\n",
    "    num += 1\n",
    "print(*odd_prime)"
   ]
  },
  {
   "cell_type": "markdown",
   "metadata": {},
   "source": [
    "# Q2 Write a Python program to implement 15 functions of string"
   ]
  },
  {
   "cell_type": "code",
   "execution_count": 2,
   "metadata": {},
   "outputs": [
    {
     "name": "stdout",
     "output_type": "stream",
     "text": [
      "India is Great\n"
     ]
    }
   ],
   "source": [
    "# Various String Functions are :\n",
    "#Using String \"India is Great\"\n",
    "s=\"India is Great\"\n",
    "print(s)"
   ]
  },
  {
   "cell_type": "code",
   "execution_count": 3,
   "metadata": {},
   "outputs": [
    {
     "data": {
      "text/plain": [
       "'i'"
      ]
     },
     "execution_count": 3,
     "metadata": {},
     "output_type": "execute_result"
    }
   ],
   "source": [
    "#1 Using FOrward Indexing\n",
    "s[6]"
   ]
  },
  {
   "cell_type": "code",
   "execution_count": null,
   "metadata": {},
   "outputs": [],
   "source": []
  },
  {
   "cell_type": "code",
   "execution_count": 4,
   "metadata": {},
   "outputs": [
    {
     "data": {
      "text/plain": [
       "'s'"
      ]
     },
     "execution_count": 4,
     "metadata": {},
     "output_type": "execute_result"
    }
   ],
   "source": [
    "#2 Using Backward Indexing\n",
    "s[-7]"
   ]
  },
  {
   "cell_type": "code",
   "execution_count": 7,
   "metadata": {},
   "outputs": [
    {
     "name": "stdout",
     "output_type": "stream",
     "text": [
      "India\n"
     ]
    }
   ],
   "source": [
    "#3 print characters of string within a range\n",
    "print(s[0:5])"
   ]
  },
  {
   "cell_type": "code",
   "execution_count": 8,
   "metadata": {},
   "outputs": [
    {
     "name": "stdout",
     "output_type": "stream",
     "text": [
      "India is\n"
     ]
    }
   ],
   "source": [
    "#4 print characters from start of string\n",
    "print(s[:8])"
   ]
  },
  {
   "cell_type": "code",
   "execution_count": 9,
   "metadata": {},
   "outputs": [
    {
     "name": "stdout",
     "output_type": "stream",
     "text": [
      " is Great\n"
     ]
    }
   ],
   "source": [
    "#5 print characters onwards of index number mentioned\n",
    "print(s[5:])"
   ]
  },
  {
   "cell_type": "code",
   "execution_count": 10,
   "metadata": {},
   "outputs": [
    {
     "name": "stdout",
     "output_type": "stream",
     "text": [
      "False\n"
     ]
    }
   ],
   "source": [
    "#6 to check if all characters are in UPPER Case\n",
    "print(s.isupper())"
   ]
  },
  {
   "cell_type": "code",
   "execution_count": 11,
   "metadata": {},
   "outputs": [
    {
     "name": "stdout",
     "output_type": "stream",
     "text": [
      "False\n"
     ]
    }
   ],
   "source": [
    "#7 to check if all characters are in lower Case\n",
    "print(s.islower())"
   ]
  },
  {
   "cell_type": "code",
   "execution_count": 12,
   "metadata": {},
   "outputs": [
    {
     "name": "stdout",
     "output_type": "stream",
     "text": [
      "ndia is Great\n"
     ]
    }
   ],
   "source": [
    "#8 Left strip of string\n",
    "print(s.lstrip('I'))"
   ]
  },
  {
   "cell_type": "code",
   "execution_count": 13,
   "metadata": {},
   "outputs": [
    {
     "name": "stdout",
     "output_type": "stream",
     "text": [
      "India is Great : Convert String in lowercase: india is great \n",
      "\n"
     ]
    }
   ],
   "source": [
    "#9\n",
    "toLower = s.lower()\n",
    "print(s, ': Convert String in lowercase:', toLower, '\\n')"
   ]
  },
  {
   "cell_type": "code",
   "execution_count": 14,
   "metadata": {},
   "outputs": [
    {
     "name": "stdout",
     "output_type": "stream",
     "text": [
      "India is Great : Convert String in Uppercase: INDIA IS GREAT \n",
      "\n"
     ]
    }
   ],
   "source": [
    "#10\n",
    "toUpper = s.upper()\n",
    "print(s, ': Convert String in Uppercase:', toUpper, '\\n')"
   ]
  },
  {
   "cell_type": "code",
   "execution_count": 15,
   "metadata": {},
   "outputs": [
    {
     "name": "stdout",
     "output_type": "stream",
     "text": [
      "True\n"
     ]
    }
   ],
   "source": [
    "#11 check if string ends with mentioned substring\n",
    "print(s.endswith('Great'))"
   ]
  },
  {
   "cell_type": "code",
   "execution_count": 16,
   "metadata": {},
   "outputs": [
    {
     "name": "stdout",
     "output_type": "stream",
     "text": [
      "True\n",
      "False\n"
     ]
    }
   ],
   "source": [
    "#12 check if string starts with mentioned substring\n",
    "print(s.startswith('India'))\n",
    "print(s.startswith('is'))"
   ]
  },
  {
   "cell_type": "code",
   "execution_count": 17,
   "metadata": {
    "scrolled": true
   },
   "outputs": [
    {
     "name": "stdout",
     "output_type": "stream",
     "text": [
      "Hindustan is Great\n",
      "India is Great\n"
     ]
    }
   ],
   "source": [
    "#13 Replace substring in a string\n",
    "print(s.replace(\"India\", \"Hindustan\"))\n",
    "print(s)"
   ]
  },
  {
   "cell_type": "code",
   "execution_count": 18,
   "metadata": {},
   "outputs": [
    {
     "name": "stdout",
     "output_type": "stream",
     "text": [
      "len(): 14\n"
     ]
    }
   ],
   "source": [
    "#14 print length of string\n",
    "print(f'len(): {len(s)}')"
   ]
  },
  {
   "cell_type": "code",
   "execution_count": 21,
   "metadata": {},
   "outputs": [
    {
     "name": "stdout",
     "output_type": "stream",
     "text": [
      "center(): ___India is Great___\n"
     ]
    }
   ],
   "source": [
    "#15 print string in center\n",
    "print(f'center(): {s.center(20, \"_\")}')"
   ]
  },
  {
   "cell_type": "markdown",
   "metadata": {},
   "source": [
    "# Q3 Write a Python program to check if the given string is a Palindrome or Anagram or None of them. Display the message accordingly to the user."
   ]
  },
  {
   "cell_type": "code",
   "execution_count": 22,
   "metadata": {},
   "outputs": [
    {
     "name": "stdout",
     "output_type": "stream",
     "text": [
      "The string is palindrome!\n"
     ]
    }
   ],
   "source": [
    "str='racecar'\n",
    "str1=reversed(str)\n",
    "if list(str)==list(str1):\n",
    "    print(\"The string is palindrome!\")\n",
    "else:\n",
    "    print(\"The String is not a palindrome!\")"
   ]
  },
  {
   "cell_type": "code",
   "execution_count": 23,
   "metadata": {},
   "outputs": [
    {
     "name": "stdout",
     "output_type": "stream",
     "text": [
      "The String is not a palindrome!\n"
     ]
    }
   ],
   "source": [
    "str='raceca'\n",
    "str1=reversed(str)\n",
    "if list(str)==list(str1):\n",
    "    print(\"The string is palindrome!\")\n",
    "else:\n",
    "    print(\"The String is not a palindrome!\")"
   ]
  },
  {
   "cell_type": "markdown",
   "metadata": {},
   "source": [
    "# Q4 Write a Python's user defined function that removes all the additional characters from the string and converts it finally to lower case using built-in lower(). eg: If the string is \"Dr. Darshan Ingle @AI-ML Trainer\", then the output be \"drdarshaningleaimltrainer\"."
   ]
  },
  {
   "cell_type": "code",
   "execution_count": 24,
   "metadata": {},
   "outputs": [
    {
     "name": "stdout",
     "output_type": "stream",
     "text": [
      "DrDarshanIngleAIMLTrainer : Convert String in lowercase: drdarshaningleaimltrainer \n",
      "\n"
     ]
    }
   ],
   "source": [
    "s=\"Dr. Darshan Ingle @AI-ML Trainer\"\n",
    "s1=(s.replace(\"@\",\"\"))\n",
    "s1=(s1.replace(\"-\",\"\"))\n",
    "s1=(s1.replace(\" \",\"\"))\n",
    "s1=(s1.replace(\".\",\"\"))\n",
    "toLower = s1.lower()\n",
    "print(s1, ': Convert String in lowercase:', toLower, '\\n')"
   ]
  },
  {
   "cell_type": "code",
   "execution_count": null,
   "metadata": {},
   "outputs": [],
   "source": []
  }
 ],
 "metadata": {
  "kernelspec": {
   "display_name": "Python 3",
   "language": "python",
   "name": "python3"
  },
  "language_info": {
   "codemirror_mode": {
    "name": "ipython",
    "version": 3
   },
   "file_extension": ".py",
   "mimetype": "text/x-python",
   "name": "python",
   "nbconvert_exporter": "python",
   "pygments_lexer": "ipython3",
   "version": "3.8.3"
  }
 },
 "nbformat": 4,
 "nbformat_minor": 4
}
